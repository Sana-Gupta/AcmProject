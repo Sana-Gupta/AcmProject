{
  "nbformat": 4,
  "nbformat_minor": 0,
  "metadata": {
    "colab": {
      "name": "PrjPLANTDISEASE.ipynb",
      "provenance": [],
      "collapsed_sections": [],
      "include_colab_link": true
    },
    "kernelspec": {
      "name": "python3",
      "display_name": "Python 3"
    },
    "accelerator": "GPU"
  },
  "cells": [
    {
      "cell_type": "markdown",
      "metadata": {
        "id": "view-in-github",
        "colab_type": "text"
      },
      "source": [
        "<a href=\"https://colab.research.google.com/github/Sana-Gupta/AcmProject/blob/master/PrjPLANTDISEASE.ipynb\" target=\"_parent\"><img src=\"https://colab.research.google.com/assets/colab-badge.svg\" alt=\"Open In Colab\"/></a>"
      ]
    },
    {
      "cell_type": "markdown",
      "metadata": {
        "id": "b0geZLvK3ZnH",
        "colab_type": "text"
      },
      "source": [
        "**<h1>Project Name : </h1>**\n",
        "**<h2>Description : </h2>**\n",
        "**<h2>Team Members :</h2>**\n",
        "\n",
        "1.   Name 1\n",
        "2.   Name 2\n",
        "3.   Name 3\n",
        "4.   Name 4\n",
        "5.   Name 5\n",
        "\n"
      ]
    },
    {
      "cell_type": "code",
      "metadata": {
        "id": "tnl6FJ8KNfKv",
        "colab_type": "code",
        "colab": {
          "base_uri": "https://localhost:8080/",
          "height": 34
        },
        "outputId": "89385ede-45ef-4029-a87d-c8bbc3f65f0f"
      },
      "source": [
        "#Downloading Dataset\n",
        "!git clone https://github.com/spMohanty/PlantVillage-Dataset.git"
      ],
      "execution_count": 31,
      "outputs": [
        {
          "output_type": "stream",
          "text": [
            "fatal: destination path 'PlantVillage-Dataset' already exists and is not an empty directory.\n"
          ],
          "name": "stdout"
        }
      ]
    },
    {
      "cell_type": "code",
      "metadata": {
        "id": "fNnf2Xyoh-dw",
        "colab_type": "code",
        "colab": {
          "base_uri": "https://localhost:8080/",
          "height": 34
        },
        "outputId": "8be8b018-a1c7-416e-bf27-9414a2de440a"
      },
      "source": [
        "from os import listdir\n",
        "import cv2\n",
        "from keras.preprocessing import image\n",
        "from keras.preprocessing.image import img_to_array\n",
        "from keras.preprocessing.image import ImageDataGenerator"
      ],
      "execution_count": 2,
      "outputs": [
        {
          "output_type": "stream",
          "text": [
            "Using TensorFlow backend.\n"
          ],
          "name": "stderr"
        }
      ]
    },
    {
      "cell_type": "code",
      "metadata": {
        "id": "aEioOMPY_MLV",
        "colab_type": "code",
        "colab": {}
      },
      "source": [
        "#initialization\n",
        "directory_path='/content/PlantVillage-Dataset/raw/color'"
      ],
      "execution_count": 3,
      "outputs": []
    },
    {
      "cell_type": "code",
      "metadata": {
        "id": "KgbhoD7C_gvj",
        "colab_type": "code",
        "colab": {}
      },
      "source": [
        "rootdir=listdir(directory_path)\n"
      ],
      "execution_count": 4,
      "outputs": []
    },
    {
      "cell_type": "code",
      "metadata": {
        "id": "PQ4P2xJGZA5T",
        "colab_type": "code",
        "colab": {}
      },
      "source": [
        "#from google.colab import drive\n",
        "##drive.mount('/content/drive')"
      ],
      "execution_count": 5,
      "outputs": []
    },
    {
      "cell_type": "code",
      "metadata": {
        "id": "W7yWl_7iC1Yg",
        "colab_type": "code",
        "colab": {}
      },
      "source": [
        "def convert_image_to_array(image_dir): ##isme convert krege  array m images\n",
        "    try:\n",
        "        image = cv2.imread(image_dir)\n",
        "        if image is not None :\n",
        "            image = cv2.resize(image, (256,256))   \n",
        "            return img_to_array(image)\n",
        "        else :\n",
        "            return np.array([])\n",
        "    except Exception as e: ##isme?? ye error btayega agar koi error aata hai to#ye jo try except hota if else ki trh hota hai , agar try vala kaam ni kia to except mae eror ko catch krke print krega.\n",
        "        print(f\"Error : {e}\")\n",
        "        return None"
      ],
      "execution_count": 6,
      "outputs": []
    },
    {
      "cell_type": "code",
      "metadata": {
        "id": "NVIoFLb9_swX",
        "colab_type": "code",
        "colab": {}
      },
      "source": [
        "##isme hmari ram bhot consume \n",
        "#hanji , because of function convert image to array\n",
        "# hr ek image ki value = 256 x 256 x 3 = 190000+ hai\n",
        "# hmarr paas total 54000+ images hai\n",
        "# to 54000 values ke liye around 109 Crore + values ho rhi hai \n",
        "# 54000 x 256 x 256 x 3\n",
        "# to usse bhtt ram bhr rhi hai , 12GB bhi kum pd gyi \n",
        "#image_list = []\n",
        "#for classFolder in rootdir:\n",
        "  #imageFolderPath = listdir(f\"{directory_path}/{classFolder}\")\n",
        "  #for image in imageFolderPath:\n",
        "  # imagePath = f\"{directory_path}/{classFolder}/{image}\"\n",
        "   # image_list.append(convert_image_to_array(imagePath))"
      ],
      "execution_count": 7,
      "outputs": []
    },
    {
      "cell_type": "code",
      "metadata": {
        "id": "6s6W7SzjAgsK",
        "colab_type": "code",
        "colab": {
          "base_uri": "https://localhost:8080/",
          "height": 1000
        },
        "outputId": "bf88ae0d-e6c6-4fb7-f4f8-9cd226c1dbd8"
      },
      "source": [
        "print(\"[INFO] LOADING DATA...\") ##isme hmm hr ek folder mae kitni images hai , vo dekh rhe hai okkk\n",
        "for classFolder in rootdir:\n",
        "  print(\"[FOLDER] \"+classFolder)\n",
        "  imageFolderPath = listdir(f\"{directory_path}/{classFolder}\")\n",
        "  lengthImages = len(imageFolderPath)\n",
        "  print(\"Images : \"+str(lengthImages))"
      ],
      "execution_count": 8,
      "outputs": [
        {
          "output_type": "stream",
          "text": [
            "[INFO] LOADING DATA...\n",
            "[FOLDER] Soybean___healthy\n",
            "Images : 5090\n",
            "[FOLDER] Corn_(maize)___Cercospora_leaf_spot Gray_leaf_spot\n",
            "Images : 513\n",
            "[FOLDER] Corn_(maize)___Northern_Leaf_Blight\n",
            "Images : 985\n",
            "[FOLDER] Tomato___Tomato_Yellow_Leaf_Curl_Virus\n",
            "Images : 5357\n",
            "[FOLDER] Grape___Leaf_blight_(Isariopsis_Leaf_Spot)\n",
            "Images : 1076\n",
            "[FOLDER] Tomato___Leaf_Mold\n",
            "Images : 952\n",
            "[FOLDER] Blueberry___healthy\n",
            "Images : 1502\n",
            "[FOLDER] Potato___Early_blight\n",
            "Images : 1000\n",
            "[FOLDER] Peach___Bacterial_spot\n",
            "Images : 2297\n",
            "[FOLDER] Cherry_(including_sour)___healthy\n",
            "Images : 854\n",
            "[FOLDER] Corn_(maize)___Common_rust_\n",
            "Images : 1192\n",
            "[FOLDER] Apple___Apple_scab\n",
            "Images : 630\n",
            "[FOLDER] Grape___healthy\n",
            "Images : 423\n",
            "[FOLDER] Grape___Black_rot\n",
            "Images : 1180\n",
            "[FOLDER] Potato___Late_blight\n",
            "Images : 1000\n",
            "[FOLDER] Tomato___Spider_mites Two-spotted_spider_mite\n",
            "Images : 1676\n",
            "[FOLDER] Cherry_(including_sour)___Powdery_mildew\n",
            "Images : 1052\n",
            "[FOLDER] Strawberry___healthy\n",
            "Images : 456\n",
            "[FOLDER] Corn_(maize)___healthy\n",
            "Images : 1162\n",
            "[FOLDER] Potato___healthy\n",
            "Images : 152\n",
            "[FOLDER] Raspberry___healthy\n",
            "Images : 371\n",
            "[FOLDER] Squash___Powdery_mildew\n",
            "Images : 1835\n",
            "[FOLDER] Apple___Cedar_apple_rust\n",
            "Images : 275\n",
            "[FOLDER] Strawberry___Leaf_scorch\n",
            "Images : 1109\n",
            "[FOLDER] Peach___healthy\n",
            "Images : 360\n",
            "[FOLDER] Pepper,_bell___Bacterial_spot\n",
            "Images : 997\n",
            "[FOLDER] Apple___Black_rot\n",
            "Images : 621\n",
            "[FOLDER] Orange___Haunglongbing_(Citrus_greening)\n",
            "Images : 5507\n",
            "[FOLDER] Tomato___Tomato_mosaic_virus\n",
            "Images : 373\n",
            "[FOLDER] Pepper,_bell___healthy\n",
            "Images : 1478\n",
            "[FOLDER] Apple___healthy\n",
            "Images : 1645\n",
            "[FOLDER] Tomato___Bacterial_spot\n",
            "Images : 2127\n",
            "[FOLDER] Tomato___Septoria_leaf_spot\n",
            "Images : 1771\n",
            "[FOLDER] Tomato___Late_blight\n",
            "Images : 1909\n",
            "[FOLDER] Grape___Esca_(Black_Measles)\n",
            "Images : 1383\n",
            "[FOLDER] Tomato___Target_Spot\n",
            "Images : 1404\n",
            "[FOLDER] Tomato___healthy\n",
            "Images : 1591\n",
            "[FOLDER] Tomato___Early_blight\n",
            "Images : 1000\n"
          ],
          "name": "stdout"
        }
      ]
    },
    {
      "cell_type": "code",
      "metadata": {
        "id": "-t5D-80xOKkd",
        "colab_type": "code",
        "colab": {}
      },
      "source": [
        "##iske bd hm keras use krke photo data ko load krke training and validation maensplit krenge okk"
      ],
      "execution_count": 9,
      "outputs": []
    },
    {
      "cell_type": "code",
      "metadata": {
        "id": "2rkyRwn4_xj6",
        "colab_type": "code",
        "colab": {}
      },
      "source": [
        "#ImageDataGenerator keras ka function hai\n",
        "#Jisko use krke hum hmari picture ko scale kr re , zoom vagera, rotate kr re , or validation mae 20% data and training mae 80% data rkh rhe hai\n",
        "#shuffle b kra images ko aapas mae \n",
        "dataGeneration = ImageDataGenerator(validation_split=0.2,rotation_range=25,width_shift_range=0.1,height_shift_range=0.1,horizontal_flip=True,fill_mode=\"nearest\")"
      ],
      "execution_count": 10,
      "outputs": []
    },
    {
      "cell_type": "code",
      "metadata": {
        "id": "RWXn0FsHIOpL",
        "colab_type": "code",
        "colab": {
          "base_uri": "https://localhost:8080/",
          "height": 34
        },
        "outputId": "3226d170-6be5-42ba-aff5-80202bc680cb"
      },
      "source": [
        "#flow from directory ek DirectoryIterator hai mtlb hr ek directory mae jakr image utha rhi \n",
        "#frbus image ko dataGeneration mae jo store hai uske accoring convert kr rhi , usko grayscale mae convert \n",
        "#krke array bnakr Training dataset bna rhi , our training dataset is in trainGenerator okk\n",
        "trainGenerator =dataGeneration.flow_from_directory('/content/PlantVillage-Dataset/raw/color',target_size=(256,256),batch_size=128,shuffle=True,class_mode=\"categorical\",subset=\"training\")"
      ],
      "execution_count": 11,
      "outputs": [
        {
          "output_type": "stream",
          "text": [
            "Found 43456 images belonging to 38 classes.\n"
          ],
          "name": "stdout"
        }
      ]
    },
    {
      "cell_type": "code",
      "metadata": {
        "id": "gAKOVm4eJ3kk",
        "colab_type": "code",
        "colab": {
          "base_uri": "https://localhost:8080/",
          "height": 663
        },
        "outputId": "f0c1151e-3c20-4f47-f2b7-bbde6ad64f9a"
      },
      "source": [
        "classes=trainGenerator.class_indices #show krne  k liye  with folder name\n",
        "j=0\n",
        "for i in classes:\n",
        "  print(str(j)+\". \"+i)\n",
        "  j = j+1"
      ],
      "execution_count": 12,
      "outputs": [
        {
          "output_type": "stream",
          "text": [
            "0. Apple___Apple_scab\n",
            "1. Apple___Black_rot\n",
            "2. Apple___Cedar_apple_rust\n",
            "3. Apple___healthy\n",
            "4. Blueberry___healthy\n",
            "5. Cherry_(including_sour)___Powdery_mildew\n",
            "6. Cherry_(including_sour)___healthy\n",
            "7. Corn_(maize)___Cercospora_leaf_spot Gray_leaf_spot\n",
            "8. Corn_(maize)___Common_rust_\n",
            "9. Corn_(maize)___Northern_Leaf_Blight\n",
            "10. Corn_(maize)___healthy\n",
            "11. Grape___Black_rot\n",
            "12. Grape___Esca_(Black_Measles)\n",
            "13. Grape___Leaf_blight_(Isariopsis_Leaf_Spot)\n",
            "14. Grape___healthy\n",
            "15. Orange___Haunglongbing_(Citrus_greening)\n",
            "16. Peach___Bacterial_spot\n",
            "17. Peach___healthy\n",
            "18. Pepper,_bell___Bacterial_spot\n",
            "19. Pepper,_bell___healthy\n",
            "20. Potato___Early_blight\n",
            "21. Potato___Late_blight\n",
            "22. Potato___healthy\n",
            "23. Raspberry___healthy\n",
            "24. Soybean___healthy\n",
            "25. Squash___Powdery_mildew\n",
            "26. Strawberry___Leaf_scorch\n",
            "27. Strawberry___healthy\n",
            "28. Tomato___Bacterial_spot\n",
            "29. Tomato___Early_blight\n",
            "30. Tomato___Late_blight\n",
            "31. Tomato___Leaf_Mold\n",
            "32. Tomato___Septoria_leaf_spot\n",
            "33. Tomato___Spider_mites Two-spotted_spider_mite\n",
            "34. Tomato___Target_Spot\n",
            "35. Tomato___Tomato_Yellow_Leaf_Curl_Virus\n",
            "36. Tomato___Tomato_mosaic_virus\n",
            "37. Tomato___healthy\n"
          ],
          "name": "stdout"
        }
      ]
    },
    {
      "cell_type": "code",
      "metadata": {
        "id": "q4a0UgqjI1Y7",
        "colab_type": "code",
        "colab": {
          "base_uri": "https://localhost:8080/",
          "height": 34
        },
        "outputId": "736e5bf0-0705-409d-c8da-4c2d2122661a"
      },
      "source": [
        "validGenerator =dataGeneration.flow_from_directory('/content/PlantVillage-Dataset/raw/color',target_size=(256,256),batch_size=128,shuffle=True,class_mode=\"categoric\",subset=\"validation\")"
      ],
      "execution_count": 13,
      "outputs": [
        {
          "output_type": "stream",
          "text": [
            "Found 10849 images belonging to 38 classes.\n"
          ],
          "name": "stdout"
        }
      ]
    },
    {
      "cell_type": "code",
      "metadata": {
        "id": "bsIllp_5Jl7b",
        "colab_type": "code",
        "colab": {
          "base_uri": "https://localhost:8080/",
          "height": 663
        },
        "outputId": "6dd99a15-9193-4220-8fa4-559bf5bbe190"
      },
      "source": [
        "trainGenerator.class_indices"
      ],
      "execution_count": 14,
      "outputs": [
        {
          "output_type": "execute_result",
          "data": {
            "text/plain": [
              "{'Apple___Apple_scab': 0,\n",
              " 'Apple___Black_rot': 1,\n",
              " 'Apple___Cedar_apple_rust': 2,\n",
              " 'Apple___healthy': 3,\n",
              " 'Blueberry___healthy': 4,\n",
              " 'Cherry_(including_sour)___Powdery_mildew': 5,\n",
              " 'Cherry_(including_sour)___healthy': 6,\n",
              " 'Corn_(maize)___Cercospora_leaf_spot Gray_leaf_spot': 7,\n",
              " 'Corn_(maize)___Common_rust_': 8,\n",
              " 'Corn_(maize)___Northern_Leaf_Blight': 9,\n",
              " 'Corn_(maize)___healthy': 10,\n",
              " 'Grape___Black_rot': 11,\n",
              " 'Grape___Esca_(Black_Measles)': 12,\n",
              " 'Grape___Leaf_blight_(Isariopsis_Leaf_Spot)': 13,\n",
              " 'Grape___healthy': 14,\n",
              " 'Orange___Haunglongbing_(Citrus_greening)': 15,\n",
              " 'Peach___Bacterial_spot': 16,\n",
              " 'Peach___healthy': 17,\n",
              " 'Pepper,_bell___Bacterial_spot': 18,\n",
              " 'Pepper,_bell___healthy': 19,\n",
              " 'Potato___Early_blight': 20,\n",
              " 'Potato___Late_blight': 21,\n",
              " 'Potato___healthy': 22,\n",
              " 'Raspberry___healthy': 23,\n",
              " 'Soybean___healthy': 24,\n",
              " 'Squash___Powdery_mildew': 25,\n",
              " 'Strawberry___Leaf_scorch': 26,\n",
              " 'Strawberry___healthy': 27,\n",
              " 'Tomato___Bacterial_spot': 28,\n",
              " 'Tomato___Early_blight': 29,\n",
              " 'Tomato___Late_blight': 30,\n",
              " 'Tomato___Leaf_Mold': 31,\n",
              " 'Tomato___Septoria_leaf_spot': 32,\n",
              " 'Tomato___Spider_mites Two-spotted_spider_mite': 33,\n",
              " 'Tomato___Target_Spot': 34,\n",
              " 'Tomato___Tomato_Yellow_Leaf_Curl_Virus': 35,\n",
              " 'Tomato___Tomato_mosaic_virus': 36,\n",
              " 'Tomato___healthy': 37}"
            ]
          },
          "metadata": {
            "tags": []
          },
          "execution_count": 14
        }
      ]
    },
    {
      "cell_type": "code",
      "metadata": {
        "id": "iYo0JIx7apMv",
        "colab_type": "code",
        "colab": {
          "base_uri": "https://localhost:8080/",
          "height": 34
        },
        "outputId": "c4ad328e-069c-4f82-92c7-a0fdec80eaf4"
      },
      "source": [
        "trainGenerator.classes"
      ],
      "execution_count": 15,
      "outputs": [
        {
          "output_type": "execute_result",
          "data": {
            "text/plain": [
              "array([ 0,  0,  0, ..., 37, 37, 37], dtype=int32)"
            ]
          },
          "metadata": {
            "tags": []
          },
          "execution_count": 15
        }
      ]
    },
    {
      "cell_type": "code",
      "metadata": {
        "id": "EotYkFU6pII4",
        "colab_type": "code",
        "colab": {}
      },
      "source": [
        "from keras.models import Sequential\n",
        "from keras.layers.normalization import BatchNormalization\n",
        "from keras.layers.convolutional import Conv2D\n",
        "from keras.layers.convolutional import MaxPooling2D\n",
        "from keras.layers.core import Activation, Flatten, Dropout, Dense\n",
        "from keras.preprocessing.image import ImageDataGenerator\n",
        "from keras.optimizers import Adam \n",
        "from keras import backend as K "
      ],
      "execution_count": 16,
      "outputs": []
    },
    {
      "cell_type": "code",
      "metadata": {
        "id": "ccWgXz53UBG2",
        "colab_type": "code",
        "colab": {}
      },
      "source": [
        ""
      ],
      "execution_count": 16,
      "outputs": []
    },
    {
      "cell_type": "code",
      "metadata": {
        "id": "qMIFnKzjUBN8",
        "colab_type": "code",
        "colab": {}
      },
      "source": [
        "model = Sequential()\n",
        "height = 256\n",
        "width = 256\n",
        "depth = 3 # 3 channels RGB\n",
        "inputShape = (height, width, depth)\n",
        "chanDim = -1\n",
        "if K.image_data_format() == \"channels_first\":\n",
        "    inputShape = (depth, height, width)\n",
        "    chanDim = 1\n",
        "model.add(Conv2D(32, (3, 3), padding=\"same\",input_shape=(256,256,3)))\n",
        "model.add(Activation(\"relu\"))\n",
        "model.add(BatchNormalization(axis=chanDim))\n",
        "model.add(MaxPooling2D(pool_size=(3, 3)))\n",
        "model.add(Dropout(0.25))\n",
        "model.add(Conv2D(64, (3, 3), padding=\"same\"))\n",
        "model.add(Activation(\"relu\"))\n",
        "model.add(BatchNormalization(axis=chanDim))\n",
        "model.add(Conv2D(64, (3, 3), padding=\"same\"))\n",
        "model.add(Activation(\"relu\"))\n",
        "model.add(BatchNormalization(axis=chanDim))\n",
        "model.add(MaxPooling2D(pool_size=(2, 2)))\n",
        "model.add(Dropout(0.25))\n",
        "model.add(Conv2D(128, (3, 3), padding=\"same\"))\n",
        "model.add(Activation(\"relu\"))\n",
        "model.add(BatchNormalization(axis=chanDim))\n",
        "model.add(Conv2D(128, (3, 3), padding=\"same\"))\n",
        "model.add(Activation(\"relu\"))\n",
        "model.add(BatchNormalization(axis=chanDim))\n",
        "model.add(MaxPooling2D(pool_size=(2, 2)))\n",
        "model.add(Dropout(0.25))\n",
        "model.add(Flatten())\n",
        "model.add(Dense(1024))\n",
        "model.add(Activation(\"relu\"))\n",
        "model.add(BatchNormalization())\n",
        "model.add(Dropout(0.5))\n",
        "model.add(Dense(38)) #output classes kitni hai vo hai ye\n",
        "model.add(Activation(\"softmax\"))"
      ],
      "execution_count": 17,
      "outputs": []
    },
    {
      "cell_type": "code",
      "metadata": {
        "id": "G4FEGzwXYr7Q",
        "colab_type": "code",
        "colab": {
          "base_uri": "https://localhost:8080/",
          "height": 1000
        },
        "outputId": "b5b43183-e134-498d-9a3b-d7cf5e25c81a"
      },
      "source": [
        "model.summary()"
      ],
      "execution_count": 18,
      "outputs": [
        {
          "output_type": "stream",
          "text": [
            "Model: \"sequential_1\"\n",
            "_________________________________________________________________\n",
            "Layer (type)                 Output Shape              Param #   \n",
            "=================================================================\n",
            "conv2d_1 (Conv2D)            (None, 256, 256, 32)      896       \n",
            "_________________________________________________________________\n",
            "activation_1 (Activation)    (None, 256, 256, 32)      0         \n",
            "_________________________________________________________________\n",
            "batch_normalization_1 (Batch (None, 256, 256, 32)      128       \n",
            "_________________________________________________________________\n",
            "max_pooling2d_1 (MaxPooling2 (None, 85, 85, 32)        0         \n",
            "_________________________________________________________________\n",
            "dropout_1 (Dropout)          (None, 85, 85, 32)        0         \n",
            "_________________________________________________________________\n",
            "conv2d_2 (Conv2D)            (None, 85, 85, 64)        18496     \n",
            "_________________________________________________________________\n",
            "activation_2 (Activation)    (None, 85, 85, 64)        0         \n",
            "_________________________________________________________________\n",
            "batch_normalization_2 (Batch (None, 85, 85, 64)        256       \n",
            "_________________________________________________________________\n",
            "conv2d_3 (Conv2D)            (None, 85, 85, 64)        36928     \n",
            "_________________________________________________________________\n",
            "activation_3 (Activation)    (None, 85, 85, 64)        0         \n",
            "_________________________________________________________________\n",
            "batch_normalization_3 (Batch (None, 85, 85, 64)        256       \n",
            "_________________________________________________________________\n",
            "max_pooling2d_2 (MaxPooling2 (None, 42, 42, 64)        0         \n",
            "_________________________________________________________________\n",
            "dropout_2 (Dropout)          (None, 42, 42, 64)        0         \n",
            "_________________________________________________________________\n",
            "conv2d_4 (Conv2D)            (None, 42, 42, 128)       73856     \n",
            "_________________________________________________________________\n",
            "activation_4 (Activation)    (None, 42, 42, 128)       0         \n",
            "_________________________________________________________________\n",
            "batch_normalization_4 (Batch (None, 42, 42, 128)       512       \n",
            "_________________________________________________________________\n",
            "conv2d_5 (Conv2D)            (None, 42, 42, 128)       147584    \n",
            "_________________________________________________________________\n",
            "activation_5 (Activation)    (None, 42, 42, 128)       0         \n",
            "_________________________________________________________________\n",
            "batch_normalization_5 (Batch (None, 42, 42, 128)       512       \n",
            "_________________________________________________________________\n",
            "max_pooling2d_3 (MaxPooling2 (None, 21, 21, 128)       0         \n",
            "_________________________________________________________________\n",
            "dropout_3 (Dropout)          (None, 21, 21, 128)       0         \n",
            "_________________________________________________________________\n",
            "flatten_1 (Flatten)          (None, 56448)             0         \n",
            "_________________________________________________________________\n",
            "dense_1 (Dense)              (None, 1024)              57803776  \n",
            "_________________________________________________________________\n",
            "activation_6 (Activation)    (None, 1024)              0         \n",
            "_________________________________________________________________\n",
            "batch_normalization_6 (Batch (None, 1024)              4096      \n",
            "_________________________________________________________________\n",
            "dropout_4 (Dropout)          (None, 1024)              0         \n",
            "_________________________________________________________________\n",
            "dense_2 (Dense)              (None, 38)                38950     \n",
            "_________________________________________________________________\n",
            "activation_7 (Activation)    (None, 38)                0         \n",
            "=================================================================\n",
            "Total params: 58,126,246\n",
            "Trainable params: 58,123,366\n",
            "Non-trainable params: 2,880\n",
            "_________________________________________________________________\n"
          ],
          "name": "stdout"
        }
      ]
    },
    {
      "cell_type": "code",
      "metadata": {
        "id": "sf50jgrM9C86",
        "colab_type": "code",
        "colab": {
          "base_uri": "https://localhost:8080/",
          "height": 34
        },
        "outputId": "a791d3c5-43b6-4040-fe33-6925469d6ed1"
      },
      "source": [
        "model.compile(optimizer='adam', loss='categorical_crossentropy', metrics=['accuracy'])\n",
        "ep = 43456//128\n",
        "print(ep)"
      ],
      "execution_count": 21,
      "outputs": [
        {
          "output_type": "stream",
          "text": [
            "339\n"
          ],
          "name": "stdout"
        }
      ]
    },
    {
      "cell_type": "code",
      "metadata": {
        "id": "8v5pYz2c-FSR",
        "colab_type": "code",
        "colab": {
          "base_uri": "https://localhost:8080/",
          "height": 207
        },
        "outputId": "5bcb46dd-86a9-465a-af27-a8d1446dbaa3"
      },
      "source": [
        "model_fit=model.fit(trainGenerator,\n",
        "                    steps_per_epoch=43456//128,\n",
        "                    epochs=5,\n",
        "                    shuffle=True,\n",
        "                    validation_data=validGenerator)"
      ],
      "execution_count": 24,
      "outputs": [
        {
          "output_type": "stream",
          "text": [
            "Epoch 1/5\n",
            "339/339 [==============================] - 397s 1s/step - loss: 0.3280 - accuracy: 0.8961 - val_loss: 3.4360 - val_accuracy: 0.5342\n",
            "Epoch 2/5\n",
            "339/339 [==============================] - 392s 1s/step - loss: 0.3639 - accuracy: 0.8893 - val_loss: 1.7180 - val_accuracy: 0.8466\n",
            "Epoch 3/5\n",
            "339/339 [==============================] - 391s 1s/step - loss: 0.2981 - accuracy: 0.9084 - val_loss: 0.3136 - val_accuracy: 0.8936\n",
            "Epoch 4/5\n",
            "339/339 [==============================] - 388s 1s/step - loss: 0.2955 - accuracy: 0.9063 - val_loss: 0.5016 - val_accuracy: 0.8669\n",
            "Epoch 5/5\n",
            "339/339 [==============================] - 395s 1s/step - loss: 0.2658 - accuracy: 0.9174 - val_loss: 4.7077e-04 - val_accuracy: 0.9007\n"
          ],
          "name": "stdout"
        }
      ]
    },
    {
      "cell_type": "code",
      "metadata": {
        "id": "ZreY3XsdxBN8",
        "colab_type": "code",
        "colab": {
          "base_uri": "https://localhost:8080/",
          "height": 545
        },
        "outputId": "ee638bbf-8c25-44fc-b485-2aa5074266f8"
      },
      "source": [
        "accur = model_fit.history[\"accuracy\"]\n",
        "val_accur = model_fit.history[\"val_accuracy\"]\n",
        "loss = model_fit.history[\"loss\"]\n",
        "val_loss = model_fit.history[\"val_loss\"]\n",
        "from matplotlib import pyplot as plt\n",
        "%matplotlib inline\n",
        "#Graph of Train and Validation Accuracy\n",
        "epochs = range(1,len(accur) + 1)\n",
        "plt.plot(epochs,accur,'b',label=\"Train Accuracy\")\n",
        "plt.plot(epochs,val_accur,'r',label=\"Test Accuracy\")\n",
        "plt.title(\"Train and Test Accuracy\")\n",
        "plt.legend()\n",
        "\n",
        "#Graph of Train and Test Loss\n",
        "plt.figure()\n",
        "plt.plot(epochs,loss,'b',label=\"Train Loss\")\n",
        "plt.plot(epochs,val_loss,'r',label=\"Test Loss\")\n",
        "plt.title(\"Train and Test Loss\")\n",
        "plt.legend()\n",
        "plt.show()"
      ],
      "execution_count": 28,
      "outputs": [
        {
          "output_type": "display_data",
          "data": {
            "image/png": "[encoded data removed]",
            "text/plain": [
              "<Figure size 432x288 with 1 Axes>"
            ]
          },
          "metadata": {
            "tags": [],
            "needs_background": "light"
          }
        },
        {
          "output_type": "display_data",
          "data": {
            "image/png": "[encoded data removed]",
            "text/plain": [
              "<Figure size 432x288 with 1 Axes>"
            ]
          },
          "metadata": {
            "tags": [],
            "needs_background": "light"
          }
        }
      ]
    },
    {
      "cell_type": "code",
      "metadata": {
        "id": "SGHF7pa32iJT",
        "colab_type": "code",
        "colab": {
          "base_uri": "https://localhost:8080/",
          "height": 68
        },
        "outputId": "04e87b55-bcb4-4da2-8c4d-9fd7cee76b23"
      },
      "source": [
        "print(\"Calculating Model Accuracy : \")\n",
        "scores = model.evaluate(validGenerator)\n",
        "print(f\"Test Accuracy : {scores[1]*100}\")"
      ],
      "execution_count": 29,
      "outputs": [
        {
          "output_type": "stream",
          "text": [
            "Calculating Model Accuracy : \n",
            "340/340 [==============================] - 180s 528ms/step\n",
            "Test Accuracy : 90.20186066627502\n"
          ],
          "name": "stdout"
        }
      ]
    },
    {
      "cell_type": "code",
      "metadata": {
        "id": "9sQErRMD2_N3",
        "colab_type": "code",
        "colab": {
          "base_uri": "https://localhost:8080/",
          "height": 34
        },
        "outputId": "7a0aebb2-914d-4a1c-8df9-e24814adc196"
      },
      "source": [
        "print(\"Saving Model...\")\n",
        "model.save(\"PlantDisease.h5\")"
      ],
      "execution_count": 30,
      "outputs": [
        {
          "output_type": "stream",
          "text": [
            "Saving Model...\n"
          ],
          "name": "stdout"
        }
      ]
    },
    {
      "cell_type": "code",
      "metadata": {
        "id": "8rN_q10W35fe",
        "colab_type": "code",
        "colab": {}
      },
      "source": [
        "from keras.models import load_model\n",
        "model2 = load_model(\"PlantDisease.h5\")"
      ],
      "execution_count": 32,
      "outputs": []
    },
    {
      "cell_type": "code",
      "metadata": {
        "id": "8AI6OKd44NKx",
        "colab_type": "code",
        "colab": {
          "base_uri": "https://localhost:8080/",
          "height": 1000
        },
        "outputId": "c48ffe19-99c4-43b7-f037-2722a7e36585"
      },
      "source": [
        "model2.summary()"
      ],
      "execution_count": 33,
      "outputs": [
        {
          "output_type": "stream",
          "text": [
            "Model: \"sequential_1\"\n",
            "_________________________________________________________________\n",
            "Layer (type)                 Output Shape              Param #   \n",
            "=================================================================\n",
            "conv2d_1 (Conv2D)            (None, 256, 256, 32)      896       \n",
            "_________________________________________________________________\n",
            "activation_1 (Activation)    (None, 256, 256, 32)      0         \n",
            "_________________________________________________________________\n",
            "batch_normalization_1 (Batch (None, 256, 256, 32)      128       \n",
            "_________________________________________________________________\n",
            "max_pooling2d_1 (MaxPooling2 (None, 85, 85, 32)        0         \n",
            "_________________________________________________________________\n",
            "dropout_1 (Dropout)          (None, 85, 85, 32)        0         \n",
            "_________________________________________________________________\n",
            "conv2d_2 (Conv2D)            (None, 85, 85, 64)        18496     \n",
            "_________________________________________________________________\n",
            "activation_2 (Activation)    (None, 85, 85, 64)        0         \n",
            "_________________________________________________________________\n",
            "batch_normalization_2 (Batch (None, 85, 85, 64)        256       \n",
            "_________________________________________________________________\n",
            "conv2d_3 (Conv2D)            (None, 85, 85, 64)        36928     \n",
            "_________________________________________________________________\n",
            "activation_3 (Activation)    (None, 85, 85, 64)        0         \n",
            "_________________________________________________________________\n",
            "batch_normalization_3 (Batch (None, 85, 85, 64)        256       \n",
            "_________________________________________________________________\n",
            "max_pooling2d_2 (MaxPooling2 (None, 42, 42, 64)        0         \n",
            "_________________________________________________________________\n",
            "dropout_2 (Dropout)          (None, 42, 42, 64)        0         \n",
            "_________________________________________________________________\n",
            "conv2d_4 (Conv2D)            (None, 42, 42, 128)       73856     \n",
            "_________________________________________________________________\n",
            "activation_4 (Activation)    (None, 42, 42, 128)       0         \n",
            "_________________________________________________________________\n",
            "batch_normalization_4 (Batch (None, 42, 42, 128)       512       \n",
            "_________________________________________________________________\n",
            "conv2d_5 (Conv2D)            (None, 42, 42, 128)       147584    \n",
            "_________________________________________________________________\n",
            "activation_5 (Activation)    (None, 42, 42, 128)       0         \n",
            "_________________________________________________________________\n",
            "batch_normalization_5 (Batch (None, 42, 42, 128)       512       \n",
            "_________________________________________________________________\n",
            "max_pooling2d_3 (MaxPooling2 (None, 21, 21, 128)       0         \n",
            "_________________________________________________________________\n",
            "dropout_3 (Dropout)          (None, 21, 21, 128)       0         \n",
            "_________________________________________________________________\n",
            "flatten_1 (Flatten)          (None, 56448)             0         \n",
            "_________________________________________________________________\n",
            "dense_1 (Dense)              (None, 1024)              57803776  \n",
            "_________________________________________________________________\n",
            "activation_6 (Activation)    (None, 1024)              0         \n",
            "_________________________________________________________________\n",
            "batch_normalization_6 (Batch (None, 1024)              4096      \n",
            "_________________________________________________________________\n",
            "dropout_4 (Dropout)          (None, 1024)              0         \n",
            "_________________________________________________________________\n",
            "dense_2 (Dense)              (None, 38)                38950     \n",
            "_________________________________________________________________\n",
            "activation_7 (Activation)    (None, 38)                0         \n",
            "=================================================================\n",
            "Total params: 58,126,246\n",
            "Trainable params: 58,123,366\n",
            "Non-trainable params: 2,880\n",
            "_________________________________________________________________\n"
          ],
          "name": "stdout"
        }
      ]
    },
    {
      "cell_type": "code",
      "metadata": {
        "id": "AApHeGrP4SzO",
        "colab_type": "code",
        "colab": {}
      },
      "source": [
        ""
      ],
      "execution_count": null,
      "outputs": []
    }
  ]
}